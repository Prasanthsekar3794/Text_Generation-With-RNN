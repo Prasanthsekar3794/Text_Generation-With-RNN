{
  "cells": [
    {
      "cell_type": "markdown",
      "metadata": {
        "id": "w-zFXtvYd8Of"
      },
      "source": [
        "# Create the Environment"
      ]
    },
    {
      "cell_type": "code",
      "execution_count": null,
      "metadata": {
        "id": "Zkr3IJQId8Oi"
      },
      "outputs": [],
      "source": [
        "import numpy as np\n",
        "import tensorflow as tf\n",
        "from tensorflow import keras\n",
        "from tensorflow.keras.layers import Dense, LSTM, Embedding\n",
        "import matplotlib.pyplot as plt\n",
        "import os"
      ]
    },
    {
      "cell_type": "markdown",
      "metadata": {
        "id": "7gSI-baHd8Ok"
      },
      "source": [
        "# Download Text Data"
      ]
    },
    {
      "cell_type": "code",
      "execution_count": null,
      "metadata": {
        "colab": {
          "base_uri": "https://localhost:8080/"
        },
        "id": "GxQhBwAed8Ok",
        "outputId": "87d23f89-be2f-4919-a980-583daf0d0ccb"
      },
      "outputs": [
        {
          "output_type": "stream",
          "name": "stdout",
          "text": [
            "Downloading data from https://storage.googleapis.com/download.tensorflow.org/data/shakespeare.txt\n",
            "1115394/1115394 [==============================] - 0s 0us/step\n"
          ]
        }
      ],
      "source": [
        "file_URL = \"https://storage.googleapis.com/download.tensorflow.org/data/shakespeare.txt\"\n",
        "file_name= \"shakespeare.txt\"\n",
        "\n",
        "path = keras.utils.get_file(file_name, file_URL)"
      ]
    },
    {
      "cell_type": "code",
      "execution_count": null,
      "metadata": {
        "colab": {
          "base_uri": "https://localhost:8080/"
        },
        "id": "0M85NjX4d8Ol",
        "outputId": "b21c5566-cafd-4407-b853-3c6a6c69a990"
      },
      "outputs": [
        {
          "output_type": "stream",
          "name": "stdout",
          "text": [
            "b\"\\nAll:\\nWe know't, we know't.\\n\\nFirst Citizen:\\nLet us kill him, and we'll have corn at our own price.\\nIs't a verdict?\\n\\nAll:\\nNo more talking on't; let it \"\n"
          ]
        }
      ],
      "source": [
        "raw = open(path, 'rb').read()\n",
        "print(raw[250:400])"
      ]
    },
    {
      "cell_type": "code",
      "execution_count": null,
      "metadata": {
        "colab": {
          "base_uri": "https://localhost:8080/"
        },
        "id": "ZlO26OPld8Ol",
        "outputId": "019c2273-369e-4076-d758-cb9324be42de"
      },
      "outputs": [
        {
          "output_type": "stream",
          "name": "stdout",
          "text": [
            "\n",
            "All:\n",
            "We know't, we know't.\n",
            "\n",
            "First Citizen:\n",
            "Let us kill him, and we'll have corn at our own price.\n",
            "Is't a verdict?\n",
            "\n",
            "All:\n",
            "No more talking on't; let it \n"
          ]
        }
      ],
      "source": [
        "text = raw.decode(encoding='utf-8')\n",
        "print(text[250:400])"
      ]
    },
    {
      "cell_type": "code",
      "execution_count": null,
      "metadata": {
        "colab": {
          "base_uri": "https://localhost:8080/"
        },
        "id": "Gslre_lOd8Ol",
        "outputId": "aa341f00-9ccd-418b-d242-3104a2948f9c"
      },
      "outputs": [
        {
          "output_type": "execute_result",
          "data": {
            "text/plain": [
              "1115394"
            ]
          },
          "metadata": {},
          "execution_count": 5
        }
      ],
      "source": [
        "len(text)"
      ]
    },
    {
      "cell_type": "markdown",
      "metadata": {
        "id": "uxsvjRwld8Om"
      },
      "source": [
        "# Vectorize Word Characters into Integers"
      ]
    },
    {
      "cell_type": "code",
      "execution_count": null,
      "metadata": {
        "colab": {
          "base_uri": "https://localhost:8080/"
        },
        "id": "5TYG2vKkd8Om",
        "outputId": "1325afdd-0fb8-4d33-fedf-26747833dd83"
      },
      "outputs": [
        {
          "output_type": "execute_result",
          "data": {
            "text/plain": [
              "65"
            ]
          },
          "metadata": {},
          "execution_count": 6
        }
      ],
      "source": [
        "vocabulary = np.array(sorted(set(text)))\n",
        "len(vocabulary)"
      ]
    },
    {
      "cell_type": "code",
      "execution_count": null,
      "metadata": {
        "id": "-X9dTGvXd8Om"
      },
      "outputs": [],
      "source": [
        "tokenizer = {char:i for i,char in enumerate(vocabulary)}"
      ]
    },
    {
      "cell_type": "code",
      "execution_count": null,
      "metadata": {
        "colab": {
          "base_uri": "https://localhost:8080/"
        },
        "id": "i7J0lFqjd8Om",
        "outputId": "a2517c46-e349-4ce5-eb0e-35ce6fba0c4f"
      },
      "outputs": [
        {
          "output_type": "stream",
          "name": "stdout",
          "text": [
            "'\\n' :    0\n",
            " ' ' :    1\n",
            " '!' :    2\n",
            " '$' :    3\n",
            " '&' :    4\n",
            " \"'\" :    5\n",
            " ',' :    6\n",
            " '-' :    7\n",
            " '.' :    8\n",
            " '3' :    9\n",
            " ':' :   10\n",
            " ';' :   11\n",
            " '?' :   12\n",
            " 'A' :   13\n",
            " 'B' :   14\n",
            " 'C' :   15\n",
            " 'D' :   16\n",
            " 'E' :   17\n",
            " 'F' :   18\n",
            " 'G' :   19\n"
          ]
        }
      ],
      "source": [
        "for i in range(20):\n",
        "    char = vocabulary[i]\n",
        "    token = tokenizer[char]\n",
        "    print('%4s : %4d'%(repr(char),token))"
      ]
    },
    {
      "cell_type": "code",
      "execution_count": null,
      "metadata": {
        "colab": {
          "base_uri": "https://localhost:8080/"
        },
        "id": "CuzqrkSQd8On",
        "outputId": "7ae95f19-d50c-4430-9ce1-e8397fd3ceca"
      },
      "outputs": [
        {
          "output_type": "stream",
          "name": "stdout",
          "text": [
            "\n",
            "Sample Text \n",
            "\n",
            "----------------------------------------------------------------------\n",
            "First Citizen:\n",
            "Before we proceed any further, hear me speak.\n",
            "\n",
            "All:\n",
            "Speak, speak.\n",
            "\n",
            "First Citizen:\n",
            "You\n",
            "----------------------------------------------------------------------\n",
            "\n",
            "\n",
            "Corresponding Integer Vector \n",
            "\n",
            "----------------------------------------------------------------------\n",
            "[18 47 56 57 58  1 15 47 58 47 64 43 52 10  0 14 43 44 53 56 43  1 61 43\n",
            "  1 54 56 53 41 43 43 42  1 39 52 63  1 44 59 56 58 46 43 56  6  1 46 43\n",
            " 39 56  1 51 43  1 57 54 43 39 49  8  0  0 13 50 50 10  0 31 54 43 39 49\n",
            "  6  1 57 54 43 39 49  8  0  0 18 47 56 57 58  1 15 47 58 47 64 43 52 10\n",
            "  0 37 53 59]\n",
            "----------------------------------------------------------------------\n"
          ]
        }
      ],
      "source": [
        "vector = np.array([tokenizer[char] for char in text])\n",
        "\n",
        "print('\\nSample Text \\n')\n",
        "print('-'*70)\n",
        "print(text[:100])\n",
        "print('-'*70)\n",
        "print('\\n\\nCorresponding Integer Vector \\n')\n",
        "print('-'*70)\n",
        "print(vector[:100])\n",
        "print('-'*70)\n"
      ]
    },
    {
      "cell_type": "code",
      "execution_count": null,
      "metadata": {
        "id": "gboZ0i8Bd8On"
      },
      "outputs": [],
      "source": [
        "vector = tf.data.Dataset.from_tensor_slices(vector)\n",
        "\n",
        "sequences = vector.batch(100, drop_remainder=True)"
      ]
    },
    {
      "cell_type": "code",
      "execution_count": null,
      "metadata": {
        "id": "WfYmFUSJd8On"
      },
      "outputs": [],
      "source": [
        "def prepare_dataset(seq):\n",
        "    input_vector = seq[:-1]\n",
        "    target_vector = seq[1:]\n",
        "    return input_vector, target_vector\n",
        "\n",
        "dataset = sequences.map(prepare_dataset)"
      ]
    },
    {
      "cell_type": "code",
      "execution_count": null,
      "metadata": {
        "colab": {
          "base_uri": "https://localhost:8080/"
        },
        "id": "VbtCq5ljd8Oo",
        "outputId": "2885368a-c025-416d-dea2-3f3566f3d093"
      },
      "outputs": [
        {
          "output_type": "stream",
          "name": "stdout",
          "text": [
            "[18 47 56 57 58  1 15 47 58 47 64 43 52 10  0 14 43 44 53 56 43  1 61 43\n",
            "  1 54 56 53 41 43 43 42  1 39 52 63  1 44 59 56 58 46 43 56  6  1 46 43\n",
            " 39 56  1 51 43  1 57 54 43 39 49  8  0  0 13 50 50 10  0 31 54 43 39 49\n",
            "  6  1 57 54 43 39 49  8  0  0 18 47 56 57 58  1 15 47 58 47 64 43 52 10\n",
            "  0 37 53]\n",
            "[47 56 57 58  1 15 47 58 47 64 43 52 10  0 14 43 44 53 56 43  1 61 43  1\n",
            " 54 56 53 41 43 43 42  1 39 52 63  1 44 59 56 58 46 43 56  6  1 46 43 39\n",
            " 56  1 51 43  1 57 54 43 39 49  8  0  0 13 50 50 10  0 31 54 43 39 49  6\n",
            "  1 57 54 43 39 49  8  0  0 18 47 56 57 58  1 15 47 58 47 64 43 52 10  0\n",
            " 37 53 59]\n",
            "'First Citizen:\\nBefore we proceed any further, hear me speak.\\n\\nAll:\\nSpeak, speak.\\n\\nFirst Citizen:\\nYo'\n",
            "'irst Citizen:\\nBefore we proceed any further, hear me speak.\\n\\nAll:\\nSpeak, speak.\\n\\nFirst Citizen:\\nYou'\n"
          ]
        }
      ],
      "source": [
        "for inp, tar in dataset.take(1):\n",
        "    print(inp.numpy())\n",
        "    print(tar.numpy())\n",
        "    inp_text = ''.join(vocabulary[inp])\n",
        "    tar_text = ''.join(vocabulary[tar])\n",
        "    print(repr(inp_text))\n",
        "    print(repr(tar_text))"
      ]
    },
    {
      "cell_type": "markdown",
      "metadata": {
        "id": "wfQA0XSmd8Oo"
      },
      "source": [
        "# Batch and Prefetch Dataset"
      ]
    },
    {
      "cell_type": "code",
      "execution_count": null,
      "metadata": {
        "colab": {
          "base_uri": "https://localhost:8080/"
        },
        "id": "kitSGp78d8Oo",
        "outputId": "b1b39de1-b19f-4650-9568-c71ac0f00109"
      },
      "outputs": [
        {
          "output_type": "execute_result",
          "data": {
            "text/plain": [
              "174"
            ]
          },
          "metadata": {},
          "execution_count": 13
        }
      ],
      "source": [
        "len(sequences)//64"
      ]
    },
    {
      "cell_type": "code",
      "execution_count": null,
      "metadata": {
        "id": "pBXRIpIKd8Oo"
      },
      "outputs": [],
      "source": [
        "AUTOTUNE = tf.data.AUTOTUNE\n",
        "\n",
        "data = dataset.batch(64, drop_remainder=True).repeat()\n",
        "data = data.prefetch(AUTOTUNE)\n",
        "\n",
        "STEPS_PER_EPOCH = len(sequences)//64"
      ]
    },
    {
      "cell_type": "code",
      "execution_count": null,
      "metadata": {
        "colab": {
          "base_uri": "https://localhost:8080/"
        },
        "id": "UKa3azEFd8Op",
        "outputId": "e99e7d9b-4018-4133-b197-c116d50bbc31"
      },
      "outputs": [
        {
          "output_type": "stream",
          "name": "stdout",
          "text": [
            "(64, 99)\n",
            "(64, 99)\n"
          ]
        }
      ],
      "source": [
        "for inp, tar in data.take(1):\n",
        "    print(inp.numpy().shape)\n",
        "    print(tar.numpy().shape)"
      ]
    },
    {
      "cell_type": "markdown",
      "metadata": {
        "id": "XSVfnbQBd8Op"
      },
      "source": [
        "# Build Model"
      ]
    },
    {
      "cell_type": "code",
      "execution_count": null,
      "metadata": {
        "id": "Cng010Eud8Op"
      },
      "outputs": [],
      "source": [
        "model = keras.Sequential([\n",
        "\n",
        "    Embedding(len(vocabulary), 64, batch_input_shape=[64,None]),\n",
        "\n",
        "    LSTM(512, return_sequences=True, stateful=True),\n",
        "    LSTM(512, return_sequences=True, stateful=True),\n",
        "\n",
        "    Dense(len(vocabulary))\n",
        "])"
      ]
    },
    {
      "cell_type": "code",
      "execution_count": null,
      "metadata": {
        "colab": {
          "base_uri": "https://localhost:8080/"
        },
        "id": "x985ad6Qd8Oq",
        "outputId": "9b1ba810-bcb6-4857-dd5c-8e01b590c824"
      },
      "outputs": [
        {
          "output_type": "stream",
          "name": "stdout",
          "text": [
            "Model: \"sequential\"\n",
            "_________________________________________________________________\n",
            " Layer (type)                Output Shape              Param #   \n",
            "=================================================================\n",
            " embedding (Embedding)       (64, None, 64)            4160      \n",
            "                                                                 \n",
            " lstm (LSTM)                 (64, None, 512)           1181696   \n",
            "                                                                 \n",
            " lstm_1 (LSTM)               (64, None, 512)           2099200   \n",
            "                                                                 \n",
            " dense (Dense)               (64, None, 65)            33345     \n",
            "                                                                 \n",
            "=================================================================\n",
            "Total params: 3318401 (12.66 MB)\n",
            "Trainable params: 3318401 (12.66 MB)\n",
            "Non-trainable params: 0 (0.00 Byte)\n",
            "_________________________________________________________________\n"
          ]
        }
      ],
      "source": [
        "model.summary()"
      ]
    },
    {
      "cell_type": "code",
      "execution_count": null,
      "metadata": {
        "colab": {
          "base_uri": "https://localhost:8080/",
          "height": 361
        },
        "id": "1J5FHDsFd8Oq",
        "outputId": "54278c27-0d2e-424d-b1db-cc39d80bc5fb"
      },
      "outputs": [
        {
          "output_type": "execute_result",
          "data": {
            "image/png": "[encoded data removed]",
            "text/plain": [
              "<IPython.core.display.Image object>"
            ]
          },
          "metadata": {},
          "execution_count": 18
        }
      ],
      "source": [
        "keras.utils.plot_model(model, show_shapes=True, dpi=64)"
      ]
    },
    {
      "cell_type": "code",
      "source": [
        "keras.utils.plot_model(model, show_shapes=False, dpi=64)"
      ],
      "metadata": {
        "colab": {
          "base_uri": "https://localhost:8080/",
          "height": 317
        },
        "id": "loWilChYOCpH",
        "outputId": "7125fb75-919e-4015-9fac-534eca953783"
      },
      "execution_count": null,
      "outputs": [
        {
          "output_type": "execute_result",
          "data": {
            "image/png": "[encoded data removed]",
            "text/plain": [
              "<IPython.core.display.Image object>"
            ]
          },
          "metadata": {},
          "execution_count": 19
        }
      ]
    },
    {
      "cell_type": "markdown",
      "metadata": {
        "id": "d3qcMYcQd8Oq"
      },
      "source": [
        "# Train the Model"
      ]
    },
    {
      "cell_type": "code",
      "execution_count": null,
      "metadata": {
        "colab": {
          "base_uri": "https://localhost:8080/"
        },
        "id": "d3x2E0MRd8Oq",
        "outputId": "a4d735d5-17d8-4665-b6b6-92aff52568e0"
      },
      "outputs": [
        {
          "output_type": "stream",
          "name": "stdout",
          "text": [
            "(64, 99)\n",
            "(64, 99, 65)\n"
          ]
        }
      ],
      "source": [
        "for example_inp, example_tar in data.take(1):\n",
        "    example_pred = model(example_inp)\n",
        "    print(example_tar.numpy().shape)\n",
        "    print(example_pred.shape)\n"
      ]
    },
    {
      "cell_type": "code",
      "execution_count": null,
      "metadata": {
        "colab": {
          "base_uri": "https://localhost:8080/"
        },
        "id": "UmExqKkHd8Or",
        "outputId": "f098ea07-4592-4a92-b723-9c673cec567c"
      },
      "outputs": [
        {
          "output_type": "execute_result",
          "data": {
            "text/plain": [
              "TensorShape([99, 1])"
            ]
          },
          "metadata": {},
          "execution_count": 21
        }
      ],
      "source": [
        "ids = tf.random.categorical(example_pred[0], num_samples=1)\n",
        "ids.shape"
      ]
    },
    {
      "cell_type": "code",
      "execution_count": null,
      "metadata": {
        "colab": {
          "base_uri": "https://localhost:8080/"
        },
        "id": "Yycgoscpd8Or",
        "outputId": "f7d182d2-14fb-4169-eea3-6c02b2567046"
      },
      "outputs": [
        {
          "output_type": "execute_result",
          "data": {
            "text/plain": [
              "35"
            ]
          },
          "metadata": {},
          "execution_count": 22
        }
      ],
      "source": [
        "ids[0][-1].numpy()"
      ]
    },
    {
      "cell_type": "code",
      "execution_count": null,
      "metadata": {
        "id": "Tglpndyfd8Or"
      },
      "outputs": [],
      "source": [
        "checkpoint_path = os.path.join(\"./checkpoints\", \"ckpt_{epoch}\")\n",
        "checkpoint_callback = keras.callbacks.ModelCheckpoint(filepath=checkpoint_path, save_weights_only=True)"
      ]
    },
    {
      "cell_type": "code",
      "execution_count": null,
      "metadata": {
        "colab": {
          "base_uri": "https://localhost:8080/"
        },
        "id": "HQS8JMQgd8Or",
        "outputId": "b9fd4ed5-0751-4010-9bc2-08567f3348a2"
      },
      "outputs": [
        {
          "output_type": "stream",
          "name": "stdout",
          "text": [
            "Epoch 1/2\n",
            "174/174 [==============================] - 910s 5s/step - loss: 3.0077\n",
            "Epoch 2/2\n",
            "174/174 [==============================] - 913s 5s/step - loss: 2.2364\n"
          ]
        }
      ],
      "source": [
        "model.compile(optimizer='adam',\n",
        "              loss=keras.losses.SparseCategoricalCrossentropy(from_logits=True))\n",
        "\n",
        "history = model.fit(data,\n",
        "                    epochs=2,\n",
        "                    steps_per_epoch=STEPS_PER_EPOCH,\n",
        "                    callbacks=[checkpoint_callback])"
      ]
    },
    {
      "cell_type": "markdown",
      "metadata": {
        "id": "gDbXBw7qd8Os"
      },
      "source": [
        "# Performance Evaluation"
      ]
    },
    {
      "cell_type": "code",
      "execution_count": null,
      "metadata": {
        "id": "7vbg08uXd8Os",
        "colab": {
          "base_uri": "https://localhost:8080/",
          "height": 479
        },
        "outputId": "a1b088fa-8144-4237-8002-e20643b43375"
      },
      "outputs": [
        {
          "output_type": "display_data",
          "data": {
            "text/plain": [
              "<Figure size 640x480 with 1 Axes>"
            ],
            "image/png": "[encoded data removed]"
          },
          "metadata": {}
        }
      ],
      "source": [
        "plt.plot(history.history['loss'], '+-y')\n",
        "plt.title('Performance Analysis', size=16, color='green')\n",
        "plt.xlabel('Epochs', size=14, color='blue')\n",
        "plt.ylabel('Loss', size=14, color='blue')\n",
        "plt.xticks(range(10))\n",
        "plt.show()"
      ]
    },
    {
      "cell_type": "markdown",
      "metadata": {
        "id": "9CuEt3rkd8Os"
      },
      "source": [
        "# Inference - Next Character Prediction"
      ]
    },
    {
      "cell_type": "code",
      "execution_count": null,
      "metadata": {
        "id": "p5GEsCgLd8Os"
      },
      "outputs": [],
      "source": [
        "model.reset_states()"
      ]
    },
    {
      "cell_type": "code",
      "execution_count": null,
      "metadata": {
        "id": "SEv-CmVzd8Ot"
      },
      "outputs": [],
      "source": [
        "sample = 'ANTHONIO:'\n",
        "\n",
        "sample_vector = [tokenizer[s] for s in sample]\n",
        "predicted = sample_vector\n",
        "\n",
        "sample_tensor = tf.expand_dims(sample_vector, 0)\n",
        "\n",
        "sample_tensor = tf.repeat(sample_tensor, 64, axis=0)\n",
        "\n",
        "temperature = 0.6\n",
        "for i in range(1000):\n",
        "    pred = model(sample_tensor)\n",
        "\n",
        "    pred = pred[0].numpy()/temperature\n",
        "    pred = tf.random.categorical(pred, num_samples=1)[-1,0].numpy()\n",
        "    predicted.append(pred)\n",
        "    sample_tensor = predicted[-99:]\n",
        "    sample_tensor = tf.expand_dims([pred],0)\n",
        "\n",
        "    sample_tensor = tf.repeat(sample_tensor, 64, axis=0)\n",
        "\n"
      ]
    },
    {
      "cell_type": "code",
      "execution_count": null,
      "metadata": {
        "id": "hvHB2RPid8Ot",
        "colab": {
          "base_uri": "https://localhost:8080/"
        },
        "outputId": "fb31dc25-988d-4440-db2a-c5631d21c3cb"
      },
      "outputs": [
        {
          "output_type": "stream",
          "name": "stdout",
          "text": [
            "ANTHONIO::\n",
            "So best thene the come.\n",
            "\n",
            "MRINCENSIO:\n",
            "Get that in bestrening the mister herter nit abering.\n",
            "\n",
            "PRTRUCHIO:\n",
            "E hast bese thou ghand and kiken srolean thall come growe\n",
            "The toot the sounte the paring of the porster the and sirest,\n",
            "Tour mest the crian a sunces he purines!\n",
            "\n",
            "PRAPSIO:\n",
            "O the matt to thit the door heer and doure,\n",
            "I have fare in hing thath ard this to beavenes.\n",
            "\n",
            "PERTIO:\n",
            "What have the pronn is hores it betand the sertange.\n",
            "\n",
            "DRREMEO:\n",
            "Of hith with he best that our best it the gain,\n",
            "What that hen heve and truess, to appieting comnt.\n",
            "\n",
            "TETRANON:\n",
            "O mim, that I hear thing mustnd pakes menons on the rownt and of thee shall the lore;\n",
            "And singer harn thich will wath sould sones\n",
            "There he is her you;\n",
            "\n",
            "BAPTARRO:\n",
            "What thik this have mans so beated be fore and and beaning to be the hoves one tele sire.\n",
            "\n",
            "PETRTIS:\n",
            "Whe come so buile that some\n",
            "And shange chat hos hour-s the hings to the gariong vith do gring of hath his mesten wit epaig is best ome thou spunce to have are.\n",
            "\n",
            "PETRANO:\n",
            "What reake you sas\n"
          ]
        }
      ],
      "source": [
        "pred_char = [vocabulary[i] for i in predicted]\n",
        "generated = ''.join(pred_char)\n",
        "print(generated)"
      ]
    },
    {
      "cell_type": "markdown",
      "metadata": {
        "id": "x1AlK-MEd8Ot"
      },
      "source": [
        "### vary temperature to see yet different prediction"
      ]
    },
    {
      "cell_type": "code",
      "execution_count": null,
      "metadata": {
        "id": "qwF8yBp1d8Ou"
      },
      "outputs": [],
      "source": [
        "sample = 'ANTHONIO:'\n",
        "\n",
        "sample_vector = [tokenizer[s] for s in sample]\n",
        "predicted = sample_vector\n",
        "\n",
        "sample_tensor = tf.expand_dims(sample_vector, 0)\n",
        "\n",
        "sample_tensor = tf.repeat(sample_tensor, 64, axis=0)\n",
        "\n",
        "\n",
        "temperature = 0.8\n",
        "for i in range(1000):\n",
        "    pred = model(sample_tensor)\n",
        "\n",
        "    pred = pred[0].numpy()/temperature\n",
        "    pred = tf.random.categorical(pred, num_samples=1)[-1,0].numpy()\n",
        "    predicted.append(pred)\n",
        "    sample_tensor = predicted[-99:]\n",
        "    sample_tensor = tf.expand_dims([pred],0)\n",
        "\n",
        "    sample_tensor = tf.repeat(sample_tensor, 64, axis=0)\n",
        "\n"
      ]
    },
    {
      "cell_type": "code",
      "execution_count": null,
      "metadata": {
        "id": "d52dPF2Zd8Ou",
        "colab": {
          "base_uri": "https://localhost:8080/"
        },
        "outputId": "25b966ce-65b0-4ea8-b8b5-4bbd5304e524"
      },
      "outputs": [
        {
          "output_type": "stream",
          "name": "stdout",
          "text": [
            "ANTHONIO:\n",
            "Thase hingtio,\n",
            "U hime it is'lonchase offisher with! not is e gume pusen? Siem in the bradk, sore tall of thut uragtiixing op\n",
            "tither ment;\n",
            "And ow thae.\n",
            "\n",
            "CERRSINTIO:\n",
            "Whas is to Iat the eave:\n",
            "That hish the fore houn ar thy be wratplo:\n",
            "Fed the wake be inow theme.\n",
            "\n",
            "TRUCIO:\n",
            "Ware a an musthanes arentse.\n",
            "\n",
            "LUCPIO:\n",
            "That mighed thou srever thee\n",
            "Ofall me frime and goll chookes tcull!\n",
            "\n",
            "LURTAND IO:\n",
            "Whe conns shou not beath, and whee of wirlinn fint of thy that or as thes tust catkor thit sorntor. how e will frotthe and apit where priened couns these\n",
            "Anceisest hame thee mestend and nier hearh\n",
            "UNTove, this o grich,, so,\n",
            "What share mith the keen Kot aresen, and wincher, but thime\n",
            "And somed, to that radiouse fraed?\n",
            "\n",
            "SEORNECVe:\n",
            "And ino, sponns in moster wo have pistersases.\n",
            "\n",
            "PARTIO:\n",
            "Hot the suve hath the-changt kither af thou bister:\n",
            "Now, mirging wertingion this what,\n",
            "Theroes arier under-dwy hon the vasente deald\n",
            "Not epearten parisent,\n",
            "\n",
            "GRESHA:\n",
            "In, and anow ot if ' hare.\n",
            "\n",
            "BRARPRO:\n",
            "And coms thou has not \n"
          ]
        }
      ],
      "source": [
        "pred_char = [vocabulary[i] for i in predicted]\n",
        "generated = ''.join(pred_char)\n",
        "print(generated)"
      ]
    }
  ],
  "metadata": {
    "colab": {
      "provenance": []
    },
    "kernelspec": {
      "display_name": "Python 3",
      "language": "python",
      "name": "python3"
    },
    "language_info": {
      "codemirror_mode": {
        "name": "ipython",
        "version": 3
      },
      "file_extension": ".py",
      "mimetype": "text/x-python",
      "name": "python",
      "nbconvert_exporter": "python",
      "pygments_lexer": "ipython3",
      "version": "3.7.10"
    }
  },
  "nbformat": 4,
  "nbformat_minor": 0
}